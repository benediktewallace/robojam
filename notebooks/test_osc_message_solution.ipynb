{
 "cells": [
  {
   "cell_type": "code",
   "execution_count": 1,
   "metadata": {
    "collapsed": true
   },
   "outputs": [],
   "source": [
    "import math\n",
    "import struct\n",
    "import socket\n",
    "import random\n",
    "from threading import Timer\n",
    "\n",
    "DEFAULT_ADDRESS = \"localhost\"\n",
    "DEFAULT_PORT = 5000\n",
    "INT_FLOAT_DGRAM_LEN = 4\n",
    "STRING_DGRAM_PAD = 4\n",
    "\n",
    "sock = socket.socket(socket.AF_INET, socket.SOCK_DGRAM)\n",
    "sock.setblocking(0)\n",
    "\n",
    "# OSC functions"
   ]
  },
  {
   "cell_type": "code",
   "execution_count": 2,
   "metadata": {
    "collapsed": true
   },
   "outputs": [],
   "source": [
    "\n",
    "\n",
    "def send_osc_message(osc_datagram, address, port):\n",
    "    \"\"\"Send OSC message via UDP.\"\"\"\n",
    "    sock.sendto(osc_datagram, (address, port))\n",
    "\n",
    "\n",
    "def pad_dgram_four_bytes(dgram):\n",
    "    \"\"\"Pad a datagram up to a multiple of 4 bytes.\"\"\"\n",
    "    return (dgram + (b'\\x00' * (4 - len(dgram) % 4)))\n",
    "\n",
    "\n",
    "# def string_to_osc(input):\n",
    "#     \"\"\"Convert a string into a zero-padded OSC String.\n",
    "#     The length of the resulting string is always a multiple of 4 bytes.\n",
    "#     The string ends with 1 to 4 zero-bytes ('\\x00')\n",
    "#     \"\"\"\n",
    "#     length = math.ceil((len(input) + 1) / 4.) * 4\n",
    "#     return struct.pack(\">%ds\" % length, str(input))\n",
    "\n",
    "\n",
    "# def touch_1d_message_datagram(pos=0.0):\n",
    "#     \"\"\"Construct an osc message with address /touch and one float.\"\"\"\n",
    "#     dgram = b''\n",
    "#     dgram += pad_dgram_four_bytes(\"/touch\".encode('utf-8'))\n",
    "#     dgram += pad_dgram_four_bytes(\",f\")\n",
    "#     dgram += struct.pack('>f', pos)\n",
    "#     return dgram\n",
    "\n",
    "\n",
    "def touch_message_datagram(x, y, z):\n",
    "    \"\"\"Constructs an OSC messages with three values to trigger a touch sound.\"\"\"\n",
    "    dgram = b''\n",
    "    dgram += pad_dgram_four_bytes(\"/touch\".encode('utf-8'))\n",
    "    dgram += pad_dgram_four_bytes(\",sfsfsf\")\n",
    "    dgram += pad_dgram_four_bytes(\"/x\".encode('utf-8'))\n",
    "    dgram += struct.pack('>f', x)\n",
    "    dgram += pad_dgram_four_bytes(\"/y\".encode('utf-8'))\n",
    "    dgram += struct.pack('>f', y)\n",
    "    dgram += pad_dgram_four_bytes(\"/z\".encode('utf-8'))\n",
    "    dgram += struct.pack('>f', z)\n",
    "    return dgram\n",
    "\n",
    "\n",
    "def sound_message_datagram(instrument='strings'):\n",
    "    dgram = b''\n",
    "    dgram += pad_dgram_four_bytes(\"/inst\".encode('utf-8'))\n",
    "    dgram += pad_dgram_four_bytes(\",s\")\n",
    "    dgram += pad_dgram_four_bytes(instrument.encode('utf-8'))\n",
    "    return dgram\n",
    "\n",
    "# High level sound functions.\n"
   ]
  },
  {
   "cell_type": "code",
   "execution_count": 8,
   "metadata": {
    "collapsed": false,
    "scrolled": true
   },
   "outputs": [],
   "source": [
    "d = touch_message_datagram(0.0,0.5,1.0)\n",
    "e = sound_message_datagram()\n",
    "send_osc_message(d, DEFAULT_ADDRESS, DEFAULT_PORT)\n",
    "send_osc_message(e, DEFAULT_ADDRESS, DEFAULT_PORT)"
   ]
  }
 ],
 "metadata": {
  "kernelspec": {
   "display_name": "Python 2",
   "language": "python",
   "name": "python2"
  },
  "language_info": {
   "codemirror_mode": {
    "name": "ipython",
    "version": 2
   },
   "file_extension": ".py",
   "mimetype": "text/x-python",
   "name": "python",
   "nbconvert_exporter": "python",
   "pygments_lexer": "ipython2",
   "version": "2.7.13"
  }
 },
 "nbformat": 4,
 "nbformat_minor": 2
}
