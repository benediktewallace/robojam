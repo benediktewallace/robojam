{
 "cells": [
  {
   "cell_type": "markdown",
   "metadata": {},
   "source": [
    "# Test MDRNN Training by Overfitting\n",
    "\n",
    "In this notebook, we will try to train the MDRNN on a single example to see if we can get it to overfit. Hopefully we can debug the model a bit this way.\n",
    "\n",
    "### First Import the Model and Tensorflow"
   ]
  },
  {
   "cell_type": "code",
   "execution_count": 44,
   "metadata": {},
   "outputs": [],
   "source": [
    "from __future__ import absolute_import\n",
    "from __future__ import division\n",
    "from __future__ import print_function\n",
    "# little path hack to get robojam from one directory up in the filesystem.\n",
    "from context import * # imports robojam\n",
    "# import robojam # alternatively do this.\n",
    "import tensorflow as tf\n",
    "import h5py\n",
    "import numpy as np\n",
    "import random\n",
    "import time\n",
    "import pandas as pd\n",
    "%matplotlib inline"
   ]
  },
  {
   "cell_type": "code",
   "execution_count": 8,
   "metadata": {},
   "outputs": [],
   "source": [
    "# Training Hyperparameters:\n",
    "SEQ_LEN = 256\n",
    "BATCH_SIZE = 1\n",
    "HIDDEN_UNITS = 256\n",
    "LAYERS = 3\n",
    "MIXES = 16\n",
    "EPOCHS = 1000\n",
    "\n",
    "# These settings train for 2.1 epochs which is pretty good!\n",
    "SEED = 2345  # 2345 seems to be good.\n",
    "\n",
    "random.seed(SEED)\n",
    "np.random.seed(SEED)\n",
    "# tf.set_random_seed(5791)  # only works for current graph."
   ]
  },
  {
   "cell_type": "code",
   "execution_count": 27,
   "metadata": {},
   "outputs": [
    {
     "name": "stdout",
     "output_type": "stream",
     "text": [
      "Total training examples: 172003\n",
      "Done initialising loader.\n",
      "Total non-overlapping examples: 670\n",
      "Start Point: [ 0.25        0.68000001  0.017413  ]\n"
     ]
    }
   ],
   "source": [
    "microjam_data_file_name = \"../datasets/TinyPerformanceCorpus.h5\"\n",
    "metatone_data_file_name = \"../datasets/MetatoneTinyPerformanceRecords.h5\"\n",
    "\n",
    "with h5py.File(microjam_data_file_name, 'r') as data_file:\n",
    "    microjam_corpus = data_file['total_performances'][:]\n",
    "with h5py.File(metatone_data_file_name, 'r') as data_file:\n",
    "    metatone_corpus = data_file['total_performances'][:]\n",
    "\n",
    "sequence_loader = robojam.sample_data.SequenceDataLoader(num_steps=SEQ_LEN + 1, batch_size=BATCH_SIZE, corpus=microjam_corpus)\n",
    "examples = sequence_loader.non_overlapping_examples()\n",
    "overfit_datum = examples[1]  # picked a sample\n",
    "start_point = overfit_datum[0]\n",
    "print(\"Start Point:\", start_point)"
   ]
  },
  {
   "cell_type": "code",
   "execution_count": 33,
   "metadata": {},
   "outputs": [
    {
     "name": "stdout",
     "output_type": "stream",
     "text": [
      "(172003, 1, 257, 3)\n",
      "(257, 3)\n",
      "(1, 257, 3)\n"
     ]
    }
   ],
   "source": [
    "b = sequence_loader.next_epoch()\n",
    "print(b.shape)\n",
    "print(overfit_datum.shape)\n",
    "only_one_batch = b[1]\n",
    "print(only_one_batch.shape)"
   ]
  },
  {
   "cell_type": "code",
   "execution_count": 36,
   "metadata": {},
   "outputs": [
    {
     "data": {
      "text/plain": [
       "(1, 1, 257, 3)"
      ]
     },
     "execution_count": 36,
     "metadata": {},
     "output_type": "execute_result"
    }
   ],
   "source": [
    "np.array([only_one_batch])"
   ]
  },
  {
   "cell_type": "code",
   "execution_count": 28,
   "metadata": {},
   "outputs": [
    {
     "name": "stdout",
     "output_type": "stream",
     "text": [
      "Loading Network\n",
      "INFO:tensorflow:Loading Training Operations\n"
     ]
    },
    {
     "name": "stderr",
     "output_type": "stream",
     "text": [
      "INFO:tensorflow:Loading Training Operations\n"
     ]
    },
    {
     "name": "stdout",
     "output_type": "stream",
     "text": [
      "INFO:tensorflow:done initialising: mdrnn-2d-1d-3layers-256units-16mixtures vars: 1353872\n"
     ]
    },
    {
     "name": "stderr",
     "output_type": "stream",
     "text": [
      "INFO:tensorflow:done initialising: mdrnn-2d-1d-3layers-256units-16mixtures vars: 1353872\n"
     ]
    }
   ],
   "source": [
    "print(\"Loading Network\")\n",
    "# Setup network\n",
    "net = robojam.MixtureRNN(mode=robojam.NET_MODE_TRAIN, \n",
    "                         n_hidden_units=HIDDEN_UNITS, \n",
    "                         n_mixtures=MIXES, \n",
    "                         batch_size=BATCH_SIZE, \n",
    "                         sequence_length=SEQ_LEN, \n",
    "                         n_layers=LAYERS)"
   ]
  },
  {
   "cell_type": "code",
   "execution_count": 52,
   "metadata": {},
   "outputs": [
    {
     "name": "stdout",
     "output_type": "stream",
     "text": [
      "Training Network: mdrnn-2d-1d-3layers-256units-16mixtures\n",
      "INFO:tensorflow:going to train: mdrnn-2d-1d-3layers-256units-16mixtures\n"
     ]
    },
    {
     "name": "stderr",
     "output_type": "stream",
     "text": [
      "INFO:tensorflow:going to train: mdrnn-2d-1d-3layers-256units-16mixtures\n"
     ]
    },
    {
     "name": "stdout",
     "output_type": "stream",
     "text": [
      "INFO:tensorflow:took 293 seconds to train.979\n"
     ]
    },
    {
     "name": "stderr",
     "output_type": "stream",
     "text": [
      "INFO:tensorflow:took 293 seconds to train.\n"
     ]
    },
    {
     "name": "stdout",
     "output_type": "stream",
     "text": [
      "Done\n"
     ]
    }
   ],
   "source": [
    "# load metatone data and train MDRNN from that.\n",
    "print(\"Training Network:\", net.model_name())\n",
    "# # Train\n",
    "# losses = net.train(sequence_loader, EPOCHS, saving=True)\n",
    "# print(losses)\n",
    "\n",
    "\"\"\"Train the network for the a number of epochs.\"\"\"\n",
    "num_epochs = 300\n",
    "tf.logging.info(\"going to train: %s\", net.model_name())\n",
    "start_time = time.time()\n",
    "training_losses = []\n",
    "\n",
    "step = 0\n",
    "with tf.Session() as sess:\n",
    "    sess.run(tf.global_variables_initializer())\n",
    "    for i in range(num_epochs):\n",
    "        batches = np.array([only_one_batch])\n",
    "        # try training, stop if there is a value error (NaN in loss).\n",
    "        try:\n",
    "            epoch_average_loss, step = net.train_epoch(batches, sess)\n",
    "        except ValueError as err:\n",
    "            tf.logging.info(\"training was aborted due to value error at global_step %d, epoch %d\", step, i)\n",
    "            tf.logging.info(err.args)\n",
    "            break\n",
    "        training_losses.append(epoch_average_loss)\n",
    "        print(\"trained epoch %d of %d. Loss was: %f\" % (i, num_epochs, epoch_average_loss), end=\"\\r\")\n",
    "#     if saving:\n",
    "#         # Save finished model separately.\n",
    "#         tf.logging.info('saving model %s.', net.model_name())\n",
    "#         net.saver.save(sess, MODEL_DIR + net.model_name())\n",
    "tf.logging.info(\"took %d seconds to train.\", (time.time() - start_time))\n",
    "training_losses\n",
    "\n",
    "print(\"Done\")"
   ]
  },
  {
   "cell_type": "code",
   "execution_count": 53,
   "metadata": {},
   "outputs": [
    {
     "data": {
      "text/plain": [
       "<matplotlib.axes._subplots.AxesSubplot at 0x10ece8668>"
      ]
     },
     "execution_count": 53,
     "metadata": {},
     "output_type": "execute_result"
    },
    {
     "data": {
      "image/png": "[encoded data removed]",
      "text/plain": [
       "<matplotlib.figure.Figure at 0x10ecdff60>"
      ]
     },
     "metadata": {},
     "output_type": "display_data"
    }
   ],
   "source": [
    "df = pd.DataFrame({\"loss\":training_losses})\n",
    "df.plot()"
   ]
  }
 ],
 "metadata": {
  "kernelspec": {
   "display_name": "Python 3",
   "language": "python",
   "name": "python3"
  },
  "language_info": {
   "codemirror_mode": {
    "name": "ipython",
    "version": 3
   },
   "file_extension": ".py",
   "mimetype": "text/x-python",
   "name": "python",
   "nbconvert_exporter": "python",
   "pygments_lexer": "ipython3",
   "version": "3.6.2"
  }
 },
 "nbformat": 4,
 "nbformat_minor": 2
}
